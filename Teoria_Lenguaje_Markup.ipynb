{
  "nbformat": 4,
  "nbformat_minor": 0,
  "metadata": {
    "colab": {
      "provenance": [],
      "include_colab_link": true
    },
    "kernelspec": {
      "name": "python3",
      "display_name": "Python 3"
    },
    "language_info": {
      "name": "python"
    }
  },
  "cells": [
    {
      "cell_type": "markdown",
      "metadata": {
        "id": "view-in-github",
        "colab_type": "text"
      },
      "source": [
        "<a href=\"https://colab.research.google.com/github/jrigottiedu/TT-2C2025-Data-Analitycs-Notebooks/blob/main/Teoria_Lenguaje_Markup.ipynb\" target=\"_parent\"><img src=\"https://colab.research.google.com/assets/colab-badge.svg\" alt=\"Open In Colab\"/></a>"
      ]
    },
    {
      "cell_type": "markdown",
      "source": [
        "# Google Colab\n",
        "Google Colab es un entorno de trabajo basado en [Jupyter Notebooks](https://jupyter.org/). Se utiliza para programar y ejecutar Python en el navegador de manera colaborativa, sin necesidad de configuración y con acceso a GPUs gratuito.\n",
        "\n",
        "Los cuadernos de Colab te permiten combinar código ejecutable y texto enriquecido en un mismo documento, además de imágenes, HTML, LaTeX y mucho más. Los cuadernos que creas en Colab se almacenan en tu cuenta de Google Drive. Puedes compartir tus cuadernos de Colab fácilmente con compañeros de trabajo o amigos, lo que les permite comentarlos o incluso editarlos.\n"
      ],
      "metadata": {
        "id": "1eHJyE1zAdyy"
      }
    },
    {
      "cell_type": "markdown",
      "source": [
        "Hace doble click en cada módulo para explorarlos"
      ],
      "metadata": {
        "id": "kP65ig9S8YsX"
      }
    },
    {
      "cell_type": "markdown",
      "source": [
        "# Título de nivel 1"
      ],
      "metadata": {
        "id": "MBLonzi26gft"
      }
    },
    {
      "cell_type": "markdown",
      "source": [
        "Contenido del capítulo 1"
      ],
      "metadata": {
        "id": "84GEWHnp8zQ1"
      }
    },
    {
      "cell_type": "markdown",
      "source": [
        "# Teoría de Markup"
      ],
      "metadata": {
        "id": "YM97QKSs8fmo"
      }
    },
    {
      "cell_type": "markdown",
      "source": [
        "## Aplcando formato al texto"
      ],
      "metadata": {
        "id": "0zwaXi9X8i96"
      }
    },
    {
      "cell_type": "markdown",
      "source": [
        "**Texto en negrita**"
      ],
      "metadata": {
        "id": "nkvGVfXl9ALg"
      }
    },
    {
      "cell_type": "markdown",
      "source": [
        "*Texto inclinado*"
      ],
      "metadata": {
        "id": "cS-QnRLj-TM0"
      }
    },
    {
      "cell_type": "markdown",
      "source": [
        "***Texto en negrita inclinado***"
      ],
      "metadata": {
        "id": "lKzQTGoK-U7k"
      }
    },
    {
      "cell_type": "markdown",
      "source": [
        "## Citando referencias"
      ],
      "metadata": {
        "id": "DfZYchKT9bKX"
      }
    },
    {
      "cell_type": "markdown",
      "source": [
        "> Cita ---- ✈"
      ],
      "metadata": {
        "id": "sYvBybSX9dWY"
      }
    },
    {
      "cell_type": "markdown",
      "source": [
        "## Links externos"
      ],
      "metadata": {
        "id": "KiaSHyT59yyI"
      }
    },
    {
      "cell_type": "markdown",
      "source": [
        "[Link a Kaggle](https://www.kaggle.com/)"
      ],
      "metadata": {
        "id": "tY5c-bOG93eX"
      }
    },
    {
      "cell_type": "markdown",
      "source": [
        "## Insertando bloques de código"
      ],
      "metadata": {
        "id": "yt0C3TlO-KyN"
      }
    },
    {
      "cell_type": "markdown",
      "source": [
        "Código inline:  `print(\"Hola Mundo!\")`"
      ],
      "metadata": {
        "id": "wcYbK6i1-OkN"
      }
    },
    {
      "cell_type": "markdown",
      "source": [
        "## Lista"
      ],
      "metadata": {
        "id": "_IgTgsCE-fWE"
      }
    },
    {
      "cell_type": "markdown",
      "source": [
        "- Item A\n",
        "- Item B\n",
        "- Item C"
      ],
      "metadata": {
        "id": "FnInBZ0k-iwJ"
      }
    },
    {
      "cell_type": "markdown",
      "source": [
        "## Lista ordenada"
      ],
      "metadata": {
        "id": "DgP3DT7t-r08"
      }
    },
    {
      "cell_type": "markdown",
      "source": [
        "1. Item 1\n",
        "2. Item 2\n",
        "3. Item 3"
      ],
      "metadata": {
        "id": "aCUM8XgF-vDk"
      }
    },
    {
      "cell_type": "markdown",
      "source": [
        "## Insertar una imágen del Drive"
      ],
      "metadata": {
        "id": "l1na3S-G-xSx"
      }
    },
    {
      "cell_type": "markdown",
      "source": [
        "1. Buscamos el id de la imagen (está en la URL, después de `d/` y antes de `/view...`). Por ejemplo: La imagen del perrito está en la URL `https://drive.google.com/file/d/1mobk1RnPua0SBvyAeogkkYo4MS0XkvFW/view?usp=drive_link`.\n",
        "Su ID es `1mobk1RnPua0SBvyAeogkkYo4MS0XkvFW`\n",
        "2. La insertamos en el siguiente código:\n",
        "\n",
        "  `<img src=\"https://drive.google.com/uc?id={id_de_la_imagen}\">`.\n",
        "    \n",
        "    Entonces queda:\n",
        "\n",
        "\n",
        "  `<img src=\"https://drive.google.com/uc?id=1mobk1RnPua0SBvyAeogkkYo4MS0XkvFW\">`\n",
        "\n",
        "Resultado:\n",
        "\n",
        "<img src=\"https://drive.google.com/uc?id=1mobk1RnPua0SBvyAeogkkYo4MS0XkvFW\">"
      ],
      "metadata": {
        "id": "yebvk_XG-24U"
      }
    },
    {
      "cell_type": "markdown",
      "source": [
        "# Repasamos código de Python"
      ],
      "metadata": {
        "id": "Ib3bLBPQ_f4n"
      }
    },
    {
      "cell_type": "code",
      "source": [
        "# Hacer click en el buton Play para ejecutar el código siguiente\n",
        "a = 10\n",
        "b = 20\n",
        "c = \"Susana\""
      ],
      "metadata": {
        "id": "zR6eIZLh_MeT"
      },
      "execution_count": 1,
      "outputs": []
    },
    {
      "cell_type": "code",
      "source": [
        "print(a * b)\n",
        "print(\"Hola\", c)"
      ],
      "metadata": {
        "id": "qSZ-eOjm_0vv",
        "outputId": "a16332bd-6fb4-41f1-d6b9-4d7e12ccad62",
        "colab": {
          "base_uri": "https://localhost:8080/"
        }
      },
      "execution_count": null,
      "outputs": [
        {
          "output_type": "stream",
          "name": "stdout",
          "text": [
            "200\n",
            "Hola Susana\n"
          ]
        }
      ]
    },
    {
      "cell_type": "code",
      "source": [
        "# Aquí tenemos al intérprete de Python\n",
        "3 + 15"
      ],
      "metadata": {
        "id": "zm5gZ9qmCGVp",
        "outputId": "90dea1c8-58ae-466b-c922-733c0bec3800",
        "colab": {
          "base_uri": "https://localhost:8080/"
        }
      },
      "execution_count": null,
      "outputs": [
        {
          "output_type": "execute_result",
          "data": {
            "text/plain": [
              "18"
            ]
          },
          "metadata": {},
          "execution_count": 3
        }
      ]
    },
    {
      "cell_type": "markdown",
      "source": [
        "## Actividades\n",
        "1. Creá tu propio bloque de texto. Utiliza:\n",
        "  - formatos de texto\n",
        "  - links\n",
        "  - al menos una imagen de tu carpeta Drive\n",
        "2. Creá un bloque de código con un programa que pida un número por teclado, y responda si es par o impar. Ejecutalo."
      ],
      "metadata": {
        "id": "gCJoH7KuEUga"
      }
    }
  ]
}